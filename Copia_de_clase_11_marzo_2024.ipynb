{
  "nbformat": 4,
  "nbformat_minor": 0,
  "metadata": {
    "colab": {
      "provenance": [],
      "authorship_tag": "ABX9TyNsC8b/yKfP7/ySSEmqWVUH",
      "include_colab_link": true
    },
    "kernelspec": {
      "name": "python3",
      "display_name": "Python 3"
    },
    "language_info": {
      "name": "python"
    }
  },
  "cells": [
    {
      "cell_type": "markdown",
      "metadata": {
        "id": "view-in-github",
        "colab_type": "text"
      },
      "source": [
        "<a href=\"https://colab.research.google.com/github/pedroyepiz/PYTHON-2023-1/blob/main/Copia_de_clase_11_marzo_2024.ipynb\" target=\"_parent\"><img src=\"https://colab.research.google.com/assets/colab-badge.svg\" alt=\"Open In Colab\"/></a>"
      ]
    },
    {
      "cell_type": "code",
      "source": [
        "import IPython"
      ],
      "metadata": {
        "id": "_58uyEtzgFBz"
      },
      "execution_count": null,
      "outputs": []
    },
    {
      "cell_type": "code",
      "execution_count": null,
      "metadata": {
        "id": "4eOz5a33d4h_"
      },
      "outputs": [],
      "source": [
        "from IPython.display import clear_output\n"
      ]
    },
    {
      "cell_type": "code",
      "source": [
        "print (\"ESTA ES UNA NUEVASALIDA\")\n",
        "\n",
        "clear_output()"
      ],
      "metadata": {
        "id": "_sXm39n3fmv8"
      },
      "execution_count": null,
      "outputs": []
    },
    {
      "cell_type": "code",
      "source": [],
      "metadata": {
        "id": "oskw2wtmgIoK"
      },
      "execution_count": null,
      "outputs": []
    },
    {
      "cell_type": "code",
      "source": [
        "def funcion (nombre=\"KARELY RUIZ\",edad=0):\n",
        "\n",
        "    print (\"HOLA MUNDO\")\n",
        "    print (f\"HOLA {nombre} TIENES {edad} ANOS\")\n",
        "    def saludin():\n",
        "        print (\"HOLA\")\n",
        "    x = int(input(\"DAME UN NUMERO\"))\n",
        "    clear_output()\n",
        "    print (f\"EL VALOR DE X = {x}\")\n",
        "    return x, \" PEDRITO\", x*2"
      ],
      "metadata": {
        "id": "wd0L1B8XkcL1"
      },
      "execution_count": null,
      "outputs": []
    },
    {
      "cell_type": "code",
      "source": [],
      "metadata": {
        "id": "4e9EWgZqkyaa"
      },
      "execution_count": null,
      "outputs": []
    },
    {
      "cell_type": "code",
      "source": [
        "funcion(\"PEDRITO\",50)"
      ],
      "metadata": {
        "colab": {
          "base_uri": "https://localhost:8080/"
        },
        "id": "e2wcxb0XkpE9",
        "outputId": "e543ab02-ebf3-438b-cb83-8920ba43b787"
      },
      "execution_count": null,
      "outputs": [
        {
          "output_type": "stream",
          "name": "stdout",
          "text": [
            "HOLA MUNDO\n",
            "HOLA PEDRITO TIENES 50 ANOS\n"
          ]
        }
      ]
    },
    {
      "cell_type": "code",
      "source": [
        "funcion ()"
      ],
      "metadata": {
        "colab": {
          "base_uri": "https://localhost:8080/"
        },
        "id": "QY_202TLlGiW",
        "outputId": "5e8e7bd4-afbd-47c4-ba73-6bca2803bf72"
      },
      "execution_count": null,
      "outputs": [
        {
          "output_type": "stream",
          "name": "stdout",
          "text": [
            "HOLA MUNDO\n",
            "HOLA KARELY RUIZ TIENES 0 ANOS\n"
          ]
        }
      ]
    },
    {
      "cell_type": "code",
      "source": [
        "funcion(edad=23)"
      ],
      "metadata": {
        "colab": {
          "base_uri": "https://localhost:8080/"
        },
        "id": "83z3rN0hl_Gn",
        "outputId": "4435a885-18de-4e63-a743-536b853e6854"
      },
      "execution_count": null,
      "outputs": [
        {
          "output_type": "stream",
          "name": "stdout",
          "text": [
            "HOLA MUNDO\n",
            "HOLA KARELY RUIZ TIENES 23 ANOS\n"
          ]
        }
      ]
    },
    {
      "cell_type": "code",
      "source": [
        "x = funcion(\"\\\"MIA KHALIFA\\\"\",35)\n",
        "print (x[1])\n"
      ],
      "metadata": {
        "colab": {
          "base_uri": "https://localhost:8080/"
        },
        "id": "Y-JEpoQymb6z",
        "outputId": "d00c6c4f-5f2b-4ce1-80ed-b5f7030cc21f"
      },
      "execution_count": null,
      "outputs": [
        {
          "output_type": "stream",
          "name": "stdout",
          "text": [
            "EL VALOR DE X = 6\n",
            " PEDRITO\n"
          ]
        }
      ]
    },
    {
      "cell_type": "code",
      "source": [
        "def valinum(ri=0,rf=100,msge=\"DAME UN NUMERO \"):\n",
        "    while (True):\n",
        "        try:\n",
        "            num = int (input(f\"{msge} ENTRE {ri} Y {rf}: \"))\n",
        "        except ValueError:\n",
        "            print(\"ERROR...\")\n",
        "            continue\n",
        "        if(num < ri ):\n",
        "            print(\"ERROR... FUERA DEL RANGO\")\n",
        "            continue\n",
        "        if(num > rf):\n",
        "            print(\"ERROR... FUERA DEL RANGO\")\n",
        "            continue\n",
        "        break\n",
        "\n",
        "    return num\n",
        "    #print (f\"EL NUMERO FUE : {num}\")"
      ],
      "metadata": {
        "id": "6pbFqGWiXiWA"
      },
      "execution_count": 25,
      "outputs": []
    },
    {
      "cell_type": "code",
      "source": [
        "cal1=valinum(msge=\"CALIFICACION \")\n",
        "cal2=valinum(msge=\"CALIFICACION \")\n",
        "cal3=valinum(msge=\"CALIFICACION \")\n",
        "prom = (cal1 + cal2 + cal3)/3\n",
        "print (f\"EL PROMEDIO ES = {prom}\")"
      ],
      "metadata": {
        "colab": {
          "base_uri": "https://localhost:8080/"
        },
        "id": "DZywM1lDaEAx",
        "outputId": "bdce78b5-2d41-43a5-c70e-007515611a58"
      },
      "execution_count": 26,
      "outputs": [
        {
          "output_type": "stream",
          "name": "stdout",
          "text": [
            "CALIFICACION  ENTRE 0 Y 100: 52\n",
            "CALIFICACION  ENTRE 0 Y 100: 63\n",
            "CALIFICACION  ENTRE 0 Y 100: 45\n",
            "EL PROMEDIO ES = 53.333333333333336\n"
          ]
        }
      ]
    },
    {
      "cell_type": "code",
      "source": [
        "x = valinum(rf=300)"
      ],
      "metadata": {
        "colab": {
          "base_uri": "https://localhost:8080/"
        },
        "id": "MuNDCmYbdElA",
        "outputId": "cb8802b3-ba78-475c-9a51-675aba539b18"
      },
      "execution_count": 27,
      "outputs": [
        {
          "name": "stdout",
          "output_type": "stream",
          "text": [
            "DAME UN NUMERO  ENTRE 0 Y 300: 25\n"
          ]
        }
      ]
    }
  ]
}