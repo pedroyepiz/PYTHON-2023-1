{
  "nbformat": 4,
  "nbformat_minor": 0,
  "metadata": {
    "colab": {
      "provenance": [],
      "authorship_tag": "ABX9TyNTgVzfA5AsfZoPDPpfRyuq",
      "include_colab_link": true
    },
    "kernelspec": {
      "name": "python3",
      "display_name": "Python 3"
    },
    "language_info": {
      "name": "python"
    }
  },
  "cells": [
    {
      "cell_type": "markdown",
      "metadata": {
        "id": "view-in-github",
        "colab_type": "text"
      },
      "source": [
        "<a href=\"https://colab.research.google.com/github/pedroyepiz/PYTHON-2023-1/blob/main/clase_8_marzo_2024.ipynb\" target=\"_parent\"><img src=\"https://colab.research.google.com/assets/colab-badge.svg\" alt=\"Open In Colab\"/></a>"
      ]
    },
    {
      "cell_type": "code",
      "source": [
        "import IPython"
      ],
      "metadata": {
        "id": "_58uyEtzgFBz"
      },
      "execution_count": null,
      "outputs": []
    },
    {
      "cell_type": "code",
      "execution_count": null,
      "metadata": {
        "id": "4eOz5a33d4h_"
      },
      "outputs": [],
      "source": [
        "from IPython.display import clear_output\n"
      ]
    },
    {
      "cell_type": "code",
      "source": [
        "print (\"ESTA ES UNA NUEVASALIDA\")\n",
        "\n",
        "clear_output()+"
      ],
      "metadata": {
        "id": "_sXm39n3fmv8"
      },
      "execution_count": null,
      "outputs": []
    },
    {
      "cell_type": "code",
      "source": [],
      "metadata": {
        "id": "oskw2wtmgIoK"
      },
      "execution_count": null,
      "outputs": []
    },
    {
      "cell_type": "code",
      "source": [
        "def funcion (nombre=\"KARELY RUIZ\",edad=0):\n",
        "\n",
        "    print (\"HOLA MUNDO\")\n",
        "    print (f\"HOLA {nombre} TIENES {edad} ANOS\")\n",
        "    def saludin():\n",
        "        print (\"HOLA\")\n",
        "    x = int(input(\"DAME UN NUMERO\"))\n",
        "    clear_output()\n",
        "    print (f\"EL VALOR DE X = {x}\")\n",
        "    return x, \" PEDRITO\", x*2"
      ],
      "metadata": {
        "id": "wd0L1B8XkcL1"
      },
      "execution_count": null,
      "outputs": []
    },
    {
      "cell_type": "code",
      "source": [],
      "metadata": {
        "id": "4e9EWgZqkyaa"
      },
      "execution_count": null,
      "outputs": []
    },
    {
      "cell_type": "code",
      "source": [
        "funcion(\"PEDRITO\",50)"
      ],
      "metadata": {
        "colab": {
          "base_uri": "https://localhost:8080/"
        },
        "id": "e2wcxb0XkpE9",
        "outputId": "e543ab02-ebf3-438b-cb83-8920ba43b787"
      },
      "execution_count": null,
      "outputs": [
        {
          "output_type": "stream",
          "name": "stdout",
          "text": [
            "HOLA MUNDO\n",
            "HOLA PEDRITO TIENES 50 ANOS\n"
          ]
        }
      ]
    },
    {
      "cell_type": "code",
      "source": [
        "funcion ()"
      ],
      "metadata": {
        "colab": {
          "base_uri": "https://localhost:8080/"
        },
        "id": "QY_202TLlGiW",
        "outputId": "5e8e7bd4-afbd-47c4-ba73-6bca2803bf72"
      },
      "execution_count": null,
      "outputs": [
        {
          "output_type": "stream",
          "name": "stdout",
          "text": [
            "HOLA MUNDO\n",
            "HOLA KARELY RUIZ TIENES 0 ANOS\n"
          ]
        }
      ]
    },
    {
      "cell_type": "code",
      "source": [
        "funcion(edad=23)"
      ],
      "metadata": {
        "colab": {
          "base_uri": "https://localhost:8080/"
        },
        "id": "83z3rN0hl_Gn",
        "outputId": "4435a885-18de-4e63-a743-536b853e6854"
      },
      "execution_count": null,
      "outputs": [
        {
          "output_type": "stream",
          "name": "stdout",
          "text": [
            "HOLA MUNDO\n",
            "HOLA KARELY RUIZ TIENES 23 ANOS\n"
          ]
        }
      ]
    },
    {
      "cell_type": "code",
      "source": [
        "x = funcion(\"\\\"MIA KHALIFA\\\"\",35)\n",
        "print (x[1])\n"
      ],
      "metadata": {
        "colab": {
          "base_uri": "https://localhost:8080/"
        },
        "id": "Y-JEpoQymb6z",
        "outputId": "d00c6c4f-5f2b-4ce1-80ed-b5f7030cc21f"
      },
      "execution_count": null,
      "outputs": [
        {
          "output_type": "stream",
          "name": "stdout",
          "text": [
            "EL VALOR DE X = 6\n",
            " PEDRITO\n"
          ]
        }
      ]
    }
  ]
}