{
  "nbformat": 4,
  "nbformat_minor": 0,
  "metadata": {
    "colab": {
      "provenance": [],
      "authorship_tag": "ABX9TyMcuBOQyKBGLwqqF4BOlcw2",
      "include_colab_link": true
    },
    "kernelspec": {
      "name": "python3",
      "display_name": "Python 3"
    },
    "language_info": {
      "name": "python"
    }
  },
  "cells": [
    {
      "cell_type": "markdown",
      "metadata": {
        "id": "view-in-github",
        "colab_type": "text"
      },
      "source": [
        "<a href=\"https://colab.research.google.com/github/pedroyepiz/PYTHON-2023-1/blob/main/Untitled21.ipynb\" target=\"_parent\"><img src=\"https://colab.research.google.com/assets/colab-badge.svg\" alt=\"Open In Colab\"/></a>"
      ]
    },
    {
      "cell_type": "code",
      "source": [
        "num1 = int(input(\"DAME UN NUMERO\"))\n",
        "num2 = int(input(\"DAME UN NUMERO\"))\n",
        "num3 = int(input(\"DAME UN NUMERO\"))"
      ],
      "metadata": {
        "colab": {
          "base_uri": "https://localhost:8080/"
        },
        "id": "mzejnwzndlAV",
        "outputId": "dcacb368-8cb3-4f33-9eee-eba181cee4f4"
      },
      "execution_count": 3,
      "outputs": [
        {
          "name": "stdout",
          "output_type": "stream",
          "text": [
            "DAME UN NUMERO20\n",
            "DAME UN NUMERO30\n",
            "DAME UN NUMERO10\n"
          ]
        }
      ]
    },
    {
      "cell_type": "code",
      "execution_count": 5,
      "metadata": {
        "colab": {
          "base_uri": "https://localhost:8080/"
        },
        "id": "9PstBhuvdRHD",
        "outputId": "add0423d-4ed7-439e-ce1e-cf86c8e350d2"
      },
      "outputs": [
        {
          "output_type": "stream",
          "name": "stdout",
          "text": [
            "EL MAYOR ES NUM2\n"
          ]
        }
      ],
      "source": [
        "if (num1 > num2):\n",
        "    print (\"EL MAYOR NUM1\")\n",
        "\n",
        "if (num2 > num1):\n",
        "    print (\"EL MAYOR ES NUM2\")"
      ]
    },
    {
      "cell_type": "code",
      "source": [
        "if (num1 > num2):\n",
        "    print (\"MAYOR NUM1\")\n",
        "else:\n",
        "    print (\"MAYOR NUM2\")"
      ],
      "metadata": {
        "colab": {
          "base_uri": "https://localhost:8080/"
        },
        "id": "qPXl3Yj5eaoA",
        "outputId": "c8b5f6c5-9768-4dab-eeef-e6d3a3ff0e80"
      },
      "execution_count": 6,
      "outputs": [
        {
          "output_type": "stream",
          "name": "stdout",
          "text": [
            "MAYOR NUM2\n"
          ]
        }
      ]
    },
    {
      "cell_type": "code",
      "source": [
        "num1 = 20\n",
        "num2 = 10\n",
        "num3 = 30"
      ],
      "metadata": {
        "id": "3Ps5uFIxfiNA"
      },
      "execution_count": 8,
      "outputs": []
    },
    {
      "cell_type": "code",
      "source": [
        "if (num1 > num2):\n",
        "    if (num1 > num3):\n",
        "        print (\"MAYOR FUE NUM1\")\n",
        "    else:\n",
        "        print (\"MAYOR FUE NUM3\")\n",
        "else:\n",
        "    if (num2 > num3):\n",
        "        print (\"MAYOR ES NUM2\")\n",
        "    else:\n",
        "        print (\"MAYOR ES NUM3\")"
      ],
      "metadata": {
        "colab": {
          "base_uri": "https://localhost:8080/"
        },
        "id": "OHfgiYNee0e3",
        "outputId": "7a316c93-9b8b-459a-d076-501656af8dbd"
      },
      "execution_count": 9,
      "outputs": [
        {
          "output_type": "stream",
          "name": "stdout",
          "text": [
            "MAYOR FUE NUM3\n"
          ]
        }
      ]
    },
    {
      "cell_type": "code",
      "source": [
        "cal = 130"
      ],
      "metadata": {
        "id": "znqTCm3ufyAl"
      },
      "execution_count": 18,
      "outputs": []
    },
    {
      "cell_type": "code",
      "source": [
        "if (cal < 30):\n",
        "    print (\"REPETIR MATERIA\")\n",
        "elif (cal < 60):\n",
        "    print (\"EXTRAORDINARIO\")\n",
        "elif (cal < 70):\n",
        "    print (\"SUFICIENTE\")\n",
        "elif (cal < 80):\n",
        "    print (\"REGULAR\")\n",
        "elif (cal < 90):\n",
        "    print (\"BIEN\")\n",
        "elif (cal < 95):\n",
        "    print (\"muy BIEN\")\n",
        "elif (cal <= 100):\n",
        "    print (\"EXCELENTE\")\n",
        "else:\n",
        "    print(\"ERROR\")"
      ],
      "metadata": {
        "colab": {
          "base_uri": "https://localhost:8080/"
        },
        "id": "viQBtGLzf4fA",
        "outputId": "58dcd1df-1425-4aae-f121-32c490a73808"
      },
      "execution_count": 19,
      "outputs": [
        {
          "output_type": "stream",
          "name": "stdout",
          "text": [
            "ERROR\n"
          ]
        }
      ]
    }
  ]
}