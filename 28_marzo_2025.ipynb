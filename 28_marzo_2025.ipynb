{
  "nbformat": 4,
  "nbformat_minor": 0,
  "metadata": {
    "colab": {
      "provenance": [],
      "authorship_tag": "ABX9TyMouelBSnFynLdZMo2ij+3k",
      "include_colab_link": true
    },
    "kernelspec": {
      "name": "python3",
      "display_name": "Python 3"
    },
    "language_info": {
      "name": "python"
    }
  },
  "cells": [
    {
      "cell_type": "markdown",
      "metadata": {
        "id": "view-in-github",
        "colab_type": "text"
      },
      "source": [
        "<a href=\"https://colab.research.google.com/github/pedroyepiz/PYTHON-2023-1/blob/main/28_marzo_2025.ipynb\" target=\"_parent\"><img src=\"https://colab.research.google.com/assets/colab-badge.svg\" alt=\"Open In Colab\"/></a>"
      ]
    },
    {
      "cell_type": "markdown",
      "source": [
        "\n",
        "\n",
        "DICCIONARIOS EN PYTHON\n",
        "\n"
      ],
      "metadata": {
        "id": "HM5nkxe9FgJR"
      }
    },
    {
      "cell_type": "markdown",
      "source": [],
      "metadata": {
        "id": "zz5c_W4tFlLg"
      }
    },
    {
      "cell_type": "code",
      "source": [
        "dict3=dict(color='Azul', num=4)\n",
        "dict3"
      ],
      "metadata": {
        "colab": {
          "base_uri": "https://localhost:8080/"
        },
        "id": "CavSoSx1Flj4",
        "outputId": "d566eda9-d777-4f95-d2a0-f71a3dcb483b"
      },
      "execution_count": 7,
      "outputs": [
        {
          "output_type": "execute_result",
          "data": {
            "text/plain": [
              "{'color': 'Azul', 'num': 4}"
            ]
          },
          "metadata": {},
          "execution_count": 7
        }
      ]
    },
    {
      "cell_type": "code",
      "source": [
        "dict([('color', 'Verde'), ('num', 41)])"
      ],
      "metadata": {
        "colab": {
          "base_uri": "https://localhost:8080/"
        },
        "id": "tqtaiXTtH6cK",
        "outputId": "f9994320-915d-4266-f0ad-520e9f0033e0"
      },
      "execution_count": 2,
      "outputs": [
        {
          "output_type": "execute_result",
          "data": {
            "text/plain": [
              "{'color': 'Verde', 'num': 41}"
            ]
          },
          "metadata": {},
          "execution_count": 2
        }
      ]
    },
    {
      "cell_type": "code",
      "source": [
        "diccionario = dict()\n",
        "diccionario"
      ],
      "metadata": {
        "colab": {
          "base_uri": "https://localhost:8080/"
        },
        "id": "B91OOigsIc4G",
        "outputId": "1999c17b-1a96-4f1d-8bf5-2286932e15b0"
      },
      "execution_count": 4,
      "outputs": [
        {
          "output_type": "execute_result",
          "data": {
            "text/plain": [
              "{}"
            ]
          },
          "metadata": {},
          "execution_count": 4
        }
      ]
    },
    {
      "cell_type": "code",
      "source": [
        "dicc2 = {}\n",
        "dicc2"
      ],
      "metadata": {
        "colab": {
          "base_uri": "https://localhost:8080/"
        },
        "id": "NmqGMuaoIng3",
        "outputId": "92fb9e39-2ba7-4133-e6fb-f61ab6a399a4"
      },
      "execution_count": 5,
      "outputs": [
        {
          "output_type": "execute_result",
          "data": {
            "text/plain": [
              "{}"
            ]
          },
          "metadata": {},
          "execution_count": 5
        }
      ]
    },
    {
      "cell_type": "code",
      "source": [
        "datos = {\"matri\":377123,\"nombre\":\"PAULO\", \"appat\":\"SANCHEZ\",\"sexo\":\"HOMBRE\",\"novias\":[\"MIA KHALIFA\",\"MIA MARIN\",\"ALEX MARIN\"]}\n",
        "print(datos)\n",
        "print(datos[\"nombre\"])\n",
        "print(datos[\"appat\"])\n",
        "print(datos[\"novias\"][2])\n"
      ],
      "metadata": {
        "colab": {
          "base_uri": "https://localhost:8080/"
        },
        "id": "KD3wLgDBIGNT",
        "outputId": "0b9f277d-f11c-4b3d-a6c1-02f7d32afb71"
      },
      "execution_count": 36,
      "outputs": [
        {
          "output_type": "stream",
          "name": "stdout",
          "text": [
            "{'matri': 377123, 'nombre': 'PAULO', 'appat': 'SANCHEZ', 'sexo': 'HOMBRE', 'novias': ['MIA KHALIFA', 'MIA MARIN', 'ALEX MARIN']}\n",
            "PAULO\n",
            "SANCHEZ\n",
            "ALEX MARIN\n"
          ]
        }
      ]
    },
    {
      "cell_type": "code",
      "source": [
        "for key in datos:\n",
        "    print(f\"{key} : {datos[key]}\")"
      ],
      "metadata": {
        "colab": {
          "base_uri": "https://localhost:8080/"
        },
        "id": "G7L5xbJcMShr",
        "outputId": "8298341e-7b83-4ba6-d6a6-f347ca825894"
      },
      "execution_count": 58,
      "outputs": [
        {
          "output_type": "stream",
          "name": "stdout",
          "text": [
            "matri : 377123\n",
            "nombre : PAULO\n",
            "sexo : HOMBRE\n",
            "novias : ['MIA KHALIFA', 'MIA MARIN', 'ALEX MARIN']\n",
            "edad : 20\n",
            "EDAD : 20\n",
            "eda : 20\n",
            "apellidos : SANCHEZ GAYNOR\n"
          ]
        }
      ]
    },
    {
      "cell_type": "code",
      "source": [
        "datos.pop(\"appat\")"
      ],
      "metadata": {
        "colab": {
          "base_uri": "https://localhost:8080/",
          "height": 36
        },
        "id": "VaS8sdz7QVN5",
        "outputId": "9ad90e22-dfe8-46f0-9e86-404a7ddc50cd"
      },
      "execution_count": 57,
      "outputs": [
        {
          "output_type": "execute_result",
          "data": {
            "text/plain": [
              "'SANCHEZ GAYNOR'"
            ],
            "application/vnd.google.colaboratory.intrinsic+json": {
              "type": "string"
            }
          },
          "metadata": {},
          "execution_count": 57
        }
      ]
    },
    {
      "cell_type": "code",
      "source": [
        "for i,key in enumerate(datos):\n",
        "    print(f\"{i} .- {key} : {datos[key]}\")"
      ],
      "metadata": {
        "colab": {
          "base_uri": "https://localhost:8080/"
        },
        "id": "9MZKWPL8NKXB",
        "outputId": "4c6c86b5-0893-4ee9-a0df-a20b0aa2ffc2"
      },
      "execution_count": 31,
      "outputs": [
        {
          "output_type": "stream",
          "name": "stdout",
          "text": [
            "0 .- edad : 20\n"
          ]
        }
      ]
    },
    {
      "cell_type": "code",
      "source": [
        "datos[\"eda\"]=20"
      ],
      "metadata": {
        "id": "cYT1dnRAPWia"
      },
      "execution_count": 50,
      "outputs": []
    },
    {
      "cell_type": "code",
      "source": [
        "lista=datos.values()"
      ],
      "metadata": {
        "id": "RyTn9-TqN43f"
      },
      "execution_count": 44,
      "outputs": []
    },
    {
      "cell_type": "code",
      "source": [
        "def lee_dicc():\n",
        "    alumno ={}\n",
        "    alumno[\"matricula\"]=int(input(\"MATRICULA:\"))\n",
        "    alumno[\"nombre\"]=(input(\"NOMBRE:\"))\n",
        "\n",
        "    return alumno"
      ],
      "metadata": {
        "id": "jFeIrUypRMPv"
      },
      "execution_count": 67,
      "outputs": []
    },
    {
      "cell_type": "code",
      "source": [
        "def impr_dicc(dicc):\n",
        "    for key in dicc:\n",
        "        print(f\"{key} : {dicc[key]}\")"
      ],
      "metadata": {
        "id": "A0LXhI8_SDM9"
      },
      "execution_count": 71,
      "outputs": []
    },
    {
      "cell_type": "code",
      "source": [
        "dicc=lee_dicc()\n",
        "impr_dicc(dicc)"
      ],
      "metadata": {
        "colab": {
          "base_uri": "https://localhost:8080/"
        },
        "id": "_izRv3f0Ry0M",
        "outputId": "76432208-70d9-4dbd-9776-7aac9d63ceff"
      },
      "execution_count": 73,
      "outputs": [
        {
          "output_type": "stream",
          "name": "stdout",
          "text": [
            "MATRICULA:123\n",
            "NOMBRE:pedro\n",
            "matricula : 123\n",
            "nombre : pedro\n"
          ]
        }
      ]
    }
  ]
}