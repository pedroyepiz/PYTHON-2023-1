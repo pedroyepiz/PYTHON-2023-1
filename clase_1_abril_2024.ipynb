{
  "nbformat": 4,
  "nbformat_minor": 0,
  "metadata": {
    "colab": {
      "provenance": [],
      "authorship_tag": "ABX9TyOsaXAcecs4028Q7DRb0fM8",
      "include_colab_link": true
    },
    "kernelspec": {
      "name": "python3",
      "display_name": "Python 3"
    },
    "language_info": {
      "name": "python"
    }
  },
  "cells": [
    {
      "cell_type": "markdown",
      "metadata": {
        "id": "view-in-github",
        "colab_type": "text"
      },
      "source": [
        "<a href=\"https://colab.research.google.com/github/pedroyepiz/PYTHON-2023-1/blob/main/clase_1_abril_2024.ipynb\" target=\"_parent\"><img src=\"https://colab.research.google.com/assets/colab-badge.svg\" alt=\"Open In Colab\"/></a>"
      ]
    },
    {
      "cell_type": "code",
      "execution_count": 4,
      "metadata": {
        "id": "nus-aZRijEbg"
      },
      "outputs": [],
      "source": [
        "lista = []\n",
        "lista2 =[12,25.23,True,\"KARELY\"]"
      ]
    },
    {
      "cell_type": "code",
      "source": [
        "print (lista2)"
      ],
      "metadata": {
        "colab": {
          "base_uri": "https://localhost:8080/"
        },
        "id": "fk-ydwkqktcW",
        "outputId": "6198451c-b93d-471f-d178-e1e609adda3e"
      },
      "execution_count": 5,
      "outputs": [
        {
          "output_type": "stream",
          "name": "stdout",
          "text": [
            "[12, 25.23, True, 'KARELY']\n"
          ]
        }
      ]
    },
    {
      "cell_type": "code",
      "source": [
        "for i in lista2:\n",
        "    print (i)"
      ],
      "metadata": {
        "colab": {
          "base_uri": "https://localhost:8080/"
        },
        "id": "0SzTpoEjkzul",
        "outputId": "d48de748-233a-47d3-cb3c-9cc140475d46"
      },
      "execution_count": 12,
      "outputs": [
        {
          "output_type": "stream",
          "name": "stdout",
          "text": [
            "12\n",
            "25.23\n",
            "True\n",
            "KARELY\n"
          ]
        }
      ]
    },
    {
      "cell_type": "code",
      "source": [
        "i=-1\n",
        "while i >= -4:\n",
        "    print (lista2[i])\n",
        "    i-=1"
      ],
      "metadata": {
        "colab": {
          "base_uri": "https://localhost:8080/"
        },
        "id": "u5zwlbaKleHV",
        "outputId": "55a3672a-3608-488c-f85e-6da86f24b541"
      },
      "execution_count": 23,
      "outputs": [
        {
          "output_type": "stream",
          "name": "stdout",
          "text": [
            "KARELY\n",
            "True\n",
            "25.23\n",
            "12\n"
          ]
        }
      ]
    },
    {
      "cell_type": "code",
      "source": [
        "# CREAR LISTA VACIA Y AGRAGAR ELEMENTOS CON append\n",
        "lista = []\n",
        "lista.append(\"MANZANA\")\n",
        "lista.append(36)\n",
        "lista.append(13.45)\n",
        "lista.append(False)\n",
        "\n",
        "#USAMOS print PARA IMPRIMIR TODA LA LISTA\n",
        "print (lista)"
      ],
      "metadata": {
        "colab": {
          "base_uri": "https://localhost:8080/"
        },
        "id": "ZriSD1ZWmWEE",
        "outputId": "b7846ce6-da78-4f1f-ad74-0e295b79d278"
      },
      "execution_count": 17,
      "outputs": [
        {
          "output_type": "stream",
          "name": "stdout",
          "text": [
            "['MANZANA', 36, 13.45, False]\n"
          ]
        }
      ]
    },
    {
      "cell_type": "code",
      "source": [
        "elemento = input(\"ESCRIBE UN VALOR\")\n",
        "lista.append(elemento)"
      ],
      "metadata": {
        "colab": {
          "base_uri": "https://localhost:8080/"
        },
        "id": "AHr7-1WMmbV0",
        "outputId": "b0c4461f-ee52-49a9-900f-1c00906de0f0"
      },
      "execution_count": 39,
      "outputs": [
        {
          "name": "stdout",
          "output_type": "stream",
          "text": [
            "ESCRIBE UN VALOR85\n"
          ]
        }
      ]
    },
    {
      "cell_type": "code",
      "source": [
        "\n",
        "print (lista)\n",
        "x = lista.pop()\n",
        "\n",
        "print (lista)\n",
        "print (x)"
      ],
      "metadata": {
        "colab": {
          "base_uri": "https://localhost:8080/",
          "height": 228
        },
        "id": "etbPSx4HovpE",
        "outputId": "624ee003-0917-48c0-c4e8-f43c4c14b82b"
      },
      "execution_count": 42,
      "outputs": [
        {
          "output_type": "stream",
          "name": "stdout",
          "text": [
            "[]\n"
          ]
        },
        {
          "output_type": "error",
          "ename": "IndexError",
          "evalue": "pop from empty list",
          "traceback": [
            "\u001b[0;31m---------------------------------------------------------------------------\u001b[0m",
            "\u001b[0;31mIndexError\u001b[0m                                Traceback (most recent call last)",
            "\u001b[0;32m<ipython-input-42-b94b54360266>\u001b[0m in \u001b[0;36m<cell line: 2>\u001b[0;34m()\u001b[0m\n\u001b[1;32m      1\u001b[0m \u001b[0mprint\u001b[0m \u001b[0;34m(\u001b[0m\u001b[0mlista\u001b[0m\u001b[0;34m)\u001b[0m\u001b[0;34m\u001b[0m\u001b[0;34m\u001b[0m\u001b[0m\n\u001b[0;32m----> 2\u001b[0;31m \u001b[0mx\u001b[0m \u001b[0;34m=\u001b[0m \u001b[0mlista\u001b[0m\u001b[0;34m.\u001b[0m\u001b[0mpop\u001b[0m\u001b[0;34m(\u001b[0m\u001b[0;34m)\u001b[0m\u001b[0;34m\u001b[0m\u001b[0;34m\u001b[0m\u001b[0m\n\u001b[0m\u001b[1;32m      3\u001b[0m \u001b[0;34m\u001b[0m\u001b[0m\n\u001b[1;32m      4\u001b[0m \u001b[0mprint\u001b[0m \u001b[0;34m(\u001b[0m\u001b[0mlista\u001b[0m\u001b[0;34m)\u001b[0m\u001b[0;34m\u001b[0m\u001b[0;34m\u001b[0m\u001b[0m\n\u001b[1;32m      5\u001b[0m \u001b[0mprint\u001b[0m \u001b[0;34m(\u001b[0m\u001b[0mx\u001b[0m\u001b[0;34m)\u001b[0m\u001b[0;34m\u001b[0m\u001b[0;34m\u001b[0m\u001b[0m\n",
            "\u001b[0;31mIndexError\u001b[0m: pop from empty list"
          ]
        }
      ]
    },
    {
      "cell_type": "code",
      "source": [
        "lista = [10,20,30]\n",
        "lista2 =[1,2,3]\n",
        "lista.extend(lista2)"
      ],
      "metadata": {
        "id": "qLtGleR_rGKz"
      },
      "execution_count": 51,
      "outputs": []
    },
    {
      "cell_type": "code",
      "source": [
        "print (lista)"
      ],
      "metadata": {
        "colab": {
          "base_uri": "https://localhost:8080/"
        },
        "id": "1C0rvydRrUtS",
        "outputId": "1772ae78-0a1a-4cf5-8851-dbaaf6367570"
      },
      "execution_count": 52,
      "outputs": [
        {
          "output_type": "stream",
          "name": "stdout",
          "text": [
            "[10, 20, 30, 1, 2, 3]\n"
          ]
        }
      ]
    },
    {
      "cell_type": "code",
      "source": [
        "lista3=sorted(lista)\n",
        "print(lista3)\n",
        "print (lista)"
      ],
      "metadata": {
        "colab": {
          "base_uri": "https://localhost:8080/"
        },
        "id": "IdiY_VA4sFoD",
        "outputId": "abc52cdb-5ba4-40f5-f334-602c53a09f1d"
      },
      "execution_count": 55,
      "outputs": [
        {
          "output_type": "stream",
          "name": "stdout",
          "text": [
            "[1, 2, 3, 10, 20, 30]\n",
            "[10, 20, 30, 1, 2, 3]\n"
          ]
        }
      ]
    },
    {
      "cell_type": "code",
      "source": [
        "lista = [\"KEVIN\",\"FUGEISHON\",\"COCO\",\"PATO\",\"ALEX\",\"RICH\"]\n",
        "i = 0\n",
        "for cadena in lista:\n",
        "    print (f\" {i} ----> {cadena}   {len(cadena)} caracteres \")\n",
        "    i += 1\n",
        "\n"
      ],
      "metadata": {
        "colab": {
          "base_uri": "https://localhost:8080/"
        },
        "id": "uMWluk4psJDC",
        "outputId": "02cd0e38-81e3-4142-8566-b4658b45d3a0"
      },
      "execution_count": 60,
      "outputs": [
        {
          "output_type": "stream",
          "name": "stdout",
          "text": [
            " 0 ----> KEVIN   5 caracteres \n",
            " 1 ----> FUGEISHON   9 caracteres \n",
            " 2 ----> COCO   4 caracteres \n",
            " 3 ----> PATO   4 caracteres \n",
            " 4 ----> ALEX   4 caracteres \n",
            " 5 ----> RICH   4 caracteres \n"
          ]
        }
      ]
    },
    {
      "cell_type": "code",
      "source": [
        "for i,cadena in enumerate(lista):\n",
        "    print (f\" {i} ----> {cadena}   {len(cadena)} caracteres \")"
      ],
      "metadata": {
        "colab": {
          "base_uri": "https://localhost:8080/"
        },
        "id": "FelVZFFnv3PJ",
        "outputId": "79e0649b-7f2d-4ee2-d337-5aaa6042bd9c"
      },
      "execution_count": 61,
      "outputs": [
        {
          "output_type": "stream",
          "name": "stdout",
          "text": [
            " 0 ----> KEVIN   5 caracteres \n",
            " 1 ----> FUGEISHON   9 caracteres \n",
            " 2 ----> COCO   4 caracteres \n",
            " 3 ----> PATO   4 caracteres \n",
            " 4 ----> ALEX   4 caracteres \n",
            " 5 ----> RICH   4 caracteres \n"
          ]
        }
      ]
    }
  ]
}