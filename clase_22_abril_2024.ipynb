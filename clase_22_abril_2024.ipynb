{
  "nbformat": 4,
  "nbformat_minor": 0,
  "metadata": {
    "colab": {
      "provenance": [],
      "authorship_tag": "ABX9TyNJnlj9IHDIbCE4RCKXiTCS",
      "include_colab_link": true
    },
    "kernelspec": {
      "name": "python3",
      "display_name": "Python 3"
    },
    "language_info": {
      "name": "python"
    }
  },
  "cells": [
    {
      "cell_type": "markdown",
      "metadata": {
        "id": "view-in-github",
        "colab_type": "text"
      },
      "source": [
        "<a href=\"https://colab.research.google.com/github/pedroyepiz/PYTHON-2023-1/blob/main/clase_22_abril_2024.ipynb\" target=\"_parent\"><img src=\"https://colab.research.google.com/assets/colab-badge.svg\" alt=\"Open In Colab\"/></a>"
      ]
    },
    {
      "cell_type": "markdown",
      "source": [
        "TIPOS DE DATOS\n",
        "\n",
        "Basios o simples\n",
        "\n",
        "int\n",
        "float\n",
        "string\n",
        "\n",
        "Listas\n",
        "\n",
        "Tuplas\n",
        "\n",
        "\n",
        "\n",
        "```\n",
        "# Esto tiene formato de código\n",
        "```\n",
        "\n"
      ],
      "metadata": {
        "id": "NXMO9Rc0xijv"
      }
    },
    {
      "cell_type": "markdown",
      "source": [
        "DICCIONARIOS"
      ],
      "metadata": {
        "id": "Q8UkXRgVuUBX"
      }
    },
    {
      "cell_type": "code",
      "execution_count": null,
      "metadata": {
        "id": "n9UzEqq-uIio",
        "colab": {
          "base_uri": "https://localhost:8080/"
        },
        "outputId": "95f6977d-8d4c-4781-f52c-52a6d1f3d70c"
      },
      "outputs": [
        {
          "output_type": "stream",
          "name": "stdout",
          "text": [
            "134773007041456\n",
            "134772789032944\n",
            "134773007041456\n"
          ]
        },
        {
          "output_type": "execute_result",
          "data": {
            "text/plain": [
              "23"
            ]
          },
          "metadata": {},
          "execution_count": 8
        }
      ],
      "source": [
        "num = 23\n",
        "num2 = 23.52\n",
        "num3 = 23\n",
        "print (id(num))\n",
        "print (id(num2))\n",
        "print (id(num3))\n",
        "int(num2)"
      ]
    },
    {
      "cell_type": "code",
      "source": [
        "lista = []\n",
        "lista2 = [2,34.56,\"KARELY RUIZ\"]\n",
        "lista3 = [23,(2,5,6)]"
      ],
      "metadata": {
        "id": "KPI--n0-zs7G"
      },
      "execution_count": null,
      "outputs": []
    },
    {
      "cell_type": "code",
      "source": [
        "tupla = ( )\n",
        "tupla2 = (2,34.56,\"KARELY RUIZ\")\n",
        "tupla3=tuple(lista2)\n"
      ],
      "metadata": {
        "id": "6xFiz7Uu0AGV"
      },
      "execution_count": null,
      "outputs": []
    },
    {
      "cell_type": "code",
      "source": [
        "jugador = {23:[\"Michael Jordan\",\"CHICAGO-BULLS\",1.92,\"ESCOLTA\"]}"
      ],
      "metadata": {
        "id": "wpM7uhHp17pu"
      },
      "execution_count": null,
      "outputs": []
    },
    {
      "cell_type": "code",
      "source": [
        "playera = {\"num\":23,\"jugador\":\"Michael Jordan\",\"equipo\":\"CHICAGO-BULLS\",\"estatura\":1.98,\"posicion\":\"ESCOLTA\"}"
      ],
      "metadata": {
        "id": "rNJ64EWD3SSj"
      },
      "execution_count": null,
      "outputs": []
    },
    {
      "cell_type": "code",
      "source": [
        "print (jugador)"
      ],
      "metadata": {
        "colab": {
          "base_uri": "https://localhost:8080/"
        },
        "id": "5uNgjrh94Y8u",
        "outputId": "1c7f5126-fba1-422e-8f7b-5e1fbc83b99a"
      },
      "execution_count": null,
      "outputs": [
        {
          "output_type": "stream",
          "name": "stdout",
          "text": [
            "{23: ['Michael Jordan', 'CHICAGO-BULLS', 1.92, 'ESCOLTA']}\n"
          ]
        }
      ]
    },
    {
      "cell_type": "code",
      "source": [
        "\n",
        "for key in playera:\n",
        "    print(key,\" : \",playera[key])"
      ],
      "metadata": {
        "colab": {
          "base_uri": "https://localhost:8080/"
        },
        "id": "7U0sr6rY4eGl",
        "outputId": "51f8b3d8-a150-481d-dd7b-e26eba841994"
      },
      "execution_count": null,
      "outputs": [
        {
          "output_type": "stream",
          "name": "stdout",
          "text": [
            "num  :  23\n",
            "jugador  :  Michael Jordan\n",
            "equipo  :  CHICAGO-BULLS\n",
            "estatura  :  1.98\n",
            "posicion  :  ESCOLTA\n"
          ]
        }
      ]
    },
    {
      "cell_type": "code",
      "source": [],
      "metadata": {
        "id": "ZE8q63sK49-0"
      },
      "execution_count": null,
      "outputs": []
    },
    {
      "cell_type": "code",
      "source": [
        "lista1 = [\"mexicana\",\"gringa\",\"koreana\",\"china\",\"peruana\"]\n",
        "lista2 = [\"POZOLE\",\"HANBUERGER\",\"GATO FRITO\",\"MURCIELAGO\",\"PALOMA\"]\n"
      ],
      "metadata": {
        "id": "Ox6nlaZP58K8"
      },
      "execution_count": null,
      "outputs": []
    },
    {
      "cell_type": "code",
      "source": [
        "comidas = dict(zip(lista1,lista2))\n",
        "print (comidas)"
      ],
      "metadata": {
        "colab": {
          "base_uri": "https://localhost:8080/"
        },
        "id": "7kY9YNBP6q_e",
        "outputId": "e66a9030-0cec-4326-d9f4-e338516a071f"
      },
      "execution_count": null,
      "outputs": [
        {
          "output_type": "stream",
          "name": "stdout",
          "text": [
            "{'mexicana': 'POZOLE', 'gringa': 'HANBUERGER', 'koreana': 'GATO FRITO', 'china': 'MURCIELAGO', 'peruana': 'PALOMA'}\n"
          ]
        }
      ]
    },
    {
      "cell_type": "code",
      "source": [
        "for key in comidas:\n",
        "    print(key,\" : \",comidas[key])"
      ],
      "metadata": {
        "colab": {
          "base_uri": "https://localhost:8080/"
        },
        "id": "n_SPj66g7L1s",
        "outputId": "4db7f7d8-3d0c-4e1d-c98c-071db8b9b595"
      },
      "execution_count": null,
      "outputs": [
        {
          "output_type": "stream",
          "name": "stdout",
          "text": [
            "mexicana  :  POZOLE\n",
            "gringa  :  HANBUERGER\n",
            "koreana  :  GATO FRITO\n",
            "china  :  MURCIELAGO\n",
            "peruana  :  PALOMA\n"
          ]
        }
      ]
    },
    {
      "cell_type": "code",
      "source": [
        "keys = comidas.keys()\n",
        "#print (keys)\n",
        "x = comidas.get(\"koreana\")\n",
        "print (x)"
      ],
      "metadata": {
        "colab": {
          "base_uri": "https://localhost:8080/"
        },
        "id": "I1meyisL7kac",
        "outputId": "63dac7ba-d788-456d-bf07-0f31358cc4ff"
      },
      "execution_count": null,
      "outputs": [
        {
          "output_type": "stream",
          "name": "stdout",
          "text": [
            "GATO FRITO\n"
          ]
        }
      ]
    },
    {
      "cell_type": "code",
      "source": [
        "comidas[\"perruna\"]=\"CARNE\""
      ],
      "metadata": {
        "id": "FhYUlfWA81eU"
      },
      "execution_count": null,
      "outputs": []
    },
    {
      "cell_type": "code",
      "source": [
        "for key in comidas:\n",
        "    print(key,\" : \",comidas[key])"
      ],
      "metadata": {
        "colab": {
          "base_uri": "https://localhost:8080/"
        },
        "id": "1eVK1SYH879k",
        "outputId": "572db1ae-d36c-4876-b98a-72ee4da9e053"
      },
      "execution_count": null,
      "outputs": [
        {
          "output_type": "stream",
          "name": "stdout",
          "text": [
            "mexicana  :  POZOLE\n",
            "gringa  :  HANBUERGER\n",
            "koreana  :  GATO FRITO\n",
            "china  :  MURCIELAGO\n",
            "peruana  :  CULLO\n",
            "perruna  :  CARNE\n"
          ]
        }
      ]
    }
  ]
}