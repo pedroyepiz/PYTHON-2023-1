{
  "nbformat": 4,
  "nbformat_minor": 0,
  "metadata": {
    "colab": {
      "provenance": [],
      "authorship_tag": "ABX9TyNy7Yi1gJ9coOjaztqCFxJ5",
      "include_colab_link": true
    },
    "kernelspec": {
      "name": "python3",
      "display_name": "Python 3"
    },
    "language_info": {
      "name": "python"
    }
  },
  "cells": [
    {
      "cell_type": "markdown",
      "metadata": {
        "id": "view-in-github",
        "colab_type": "text"
      },
      "source": [
        "<a href=\"https://colab.research.google.com/github/pedroyepiz/PYTHON-2023-1/blob/main/2_septiembre_2024.ipynb\" target=\"_parent\"><img src=\"https://colab.research.google.com/assets/colab-badge.svg\" alt=\"Open In Colab\"/></a>"
      ]
    },
    {
      "cell_type": "code",
      "execution_count": 2,
      "metadata": {
        "colab": {
          "base_uri": "https://localhost:8080/"
        },
        "id": "-S4TEyc_nc73",
        "outputId": "9f7d88c6-7fd4-4d09-a017-76ed539f0416"
      },
      "outputs": [
        {
          "output_type": "stream",
          "name": "stdout",
          "text": [
            "0\n",
            "1\n",
            "2\n",
            "3\n",
            "4\n",
            "5\n",
            "6\n",
            "7\n",
            "8\n",
            "9\n"
          ]
        }
      ],
      "source": [
        "i = 0\n",
        "while i < 10:\n",
        "    print (i)\n",
        "    i+=1"
      ]
    },
    {
      "cell_type": "code",
      "source": [
        "band = True\n",
        "while band:\n",
        "\n",
        "    num = int(input(\"DAME UN NUMERO O CERO PARA SALIR\"))\n",
        "    if (num == 0):\n",
        "        band = False"
      ],
      "metadata": {
        "colab": {
          "base_uri": "https://localhost:8080/"
        },
        "id": "JgZ6lTKFuKHl",
        "outputId": "74bab255-eb4b-4838-f379-128a6ee0d92d"
      },
      "execution_count": 3,
      "outputs": [
        {
          "name": "stdout",
          "output_type": "stream",
          "text": [
            "DAME UN NUMERO O CERO PARA SALIR5\n",
            "DAME UN NUMERO O CERO PARA SALIR6\n",
            "DAME UN NUMERO O CERO PARA SALIR2\n",
            "DAME UN NUMERO O CERO PARA SALIR0\n"
          ]
        }
      ]
    },
    {
      "cell_type": "code",
      "source": [
        "while True:\n",
        "    num = int(input(\"DAME UN NUMERO O CERO PARA SALIR\"))\n",
        "    if (num == 0):\n",
        "        break"
      ],
      "metadata": {
        "colab": {
          "base_uri": "https://localhost:8080/"
        },
        "id": "O4q94lJAuy6k",
        "outputId": "bbfc41a2-c07c-4ecf-95b5-cbd770b7cea9"
      },
      "execution_count": 4,
      "outputs": [
        {
          "name": "stdout",
          "output_type": "stream",
          "text": [
            "DAME UN NUMERO O CERO PARA SALIR5\n",
            "DAME UN NUMERO O CERO PARA SALIR6\n",
            "DAME UN NUMERO O CERO PARA SALIR7\n",
            "DAME UN NUMERO O CERO PARA SALIR0\n"
          ]
        }
      ]
    },
    {
      "cell_type": "code",
      "source": [
        "suma = 0\n",
        "i = 0\n",
        "\n",
        "while i < 10:\n",
        "    num = int(input(\"DAME UN NUMERO O CERO PARA SALIR\"))\n",
        "    if (num == 0):\n",
        "        break\n",
        "    i+=1\n",
        "    suma = suma + num\n",
        "\n",
        "if i == 10:\n",
        "    print (f\"LA SUMA DE LOS NUMEROS = { suma}\")"
      ],
      "metadata": {
        "colab": {
          "base_uri": "https://localhost:8080/"
        },
        "id": "z0GUut4fvpZN",
        "outputId": "10713dd5-269e-47d6-9090-ee6876c8e342"
      },
      "execution_count": 8,
      "outputs": [
        {
          "output_type": "stream",
          "name": "stdout",
          "text": [
            "DAME UN NUMERO O CERO PARA SALIR1\n",
            "DAME UN NUMERO O CERO PARA SALIR2\n",
            "DAME UN NUMERO O CERO PARA SALIR3\n",
            "DAME UN NUMERO O CERO PARA SALIR1\n",
            "DAME UN NUMERO O CERO PARA SALIR2\n",
            "DAME UN NUMERO O CERO PARA SALIR3\n",
            "DAME UN NUMERO O CERO PARA SALIR1\n",
            "DAME UN NUMERO O CERO PARA SALIR2\n",
            "DAME UN NUMERO O CERO PARA SALIR3\n",
            "DAME UN NUMERO O CERO PARA SALIR1\n",
            "LA SUMA DE LOS NUMEROS = 19\n"
          ]
        }
      ]
    },
    {
      "cell_type": "code",
      "source": [
        "suma = 0\n",
        "i = 0\n",
        "\n",
        "while i < 10:\n",
        "    num = int(input(\"DAME UN NUMERO entre 10 y 20 O CERO PARA SALIR\"))\n",
        "    if (num == 0):\n",
        "        break\n",
        "    if num < 10 or  num > 20:\n",
        "        print (\"QUE NO SABES LEER... ENTRE EL 10 Y EL 20\")\n",
        "        continue\n",
        "    i+=1\n",
        "    suma = suma + num\n",
        "\n",
        "else:\n",
        "    print (f\"LA SUMA DE LOS NUMEROS = { suma}\")"
      ],
      "metadata": {
        "colab": {
          "base_uri": "https://localhost:8080/"
        },
        "id": "ePaSHCmgwhad",
        "outputId": "81fa8fae-1a56-435b-c345-5c18dd0d3865"
      },
      "execution_count": 13,
      "outputs": [
        {
          "output_type": "stream",
          "name": "stdout",
          "text": [
            "DAME UN NUMERO entre 10 y 20 O CERO PARA SALIR15\n",
            "DAME UN NUMERO entre 10 y 20 O CERO PARA SALIR15\n",
            "DAME UN NUMERO entre 10 y 20 O CERO PARA SALIR23\n",
            "QUE NO SABES LEER... ENTRE EL 10 Y EL 20\n",
            "DAME UN NUMERO entre 10 y 20 O CERO PARA SALIR15\n",
            "DAME UN NUMERO entre 10 y 20 O CERO PARA SALIR15\n",
            "DAME UN NUMERO entre 10 y 20 O CERO PARA SALIR15\n",
            "DAME UN NUMERO entre 10 y 20 O CERO PARA SALIR15\n",
            "DAME UN NUMERO entre 10 y 20 O CERO PARA SALIR1\n",
            "QUE NO SABES LEER... ENTRE EL 10 Y EL 20\n",
            "DAME UN NUMERO entre 10 y 20 O CERO PARA SALIR15\n",
            "DAME UN NUMERO entre 10 y 20 O CERO PARA SALIR15\n",
            "DAME UN NUMERO entre 10 y 20 O CERO PARA SALIR15\n",
            "DAME UN NUMERO entre 10 y 20 O CERO PARA SALIR15\n",
            "LA SUMA DE LOS NUMEROS = 150\n"
          ]
        }
      ]
    },
    {
      "cell_type": "code",
      "source": [
        "\n",
        "for i in range(10):\n",
        "    print (i)"
      ],
      "metadata": {
        "colab": {
          "base_uri": "https://localhost:8080/"
        },
        "id": "q9XxxSBDyASs",
        "outputId": "49557459-e9f2-437a-ae71-e2faed7bb0b6"
      },
      "execution_count": 14,
      "outputs": [
        {
          "output_type": "stream",
          "name": "stdout",
          "text": [
            "0\n",
            "1\n",
            "2\n",
            "3\n",
            "4\n",
            "5\n",
            "6\n",
            "7\n",
            "8\n",
            "9\n"
          ]
        }
      ]
    },
    {
      "cell_type": "code",
      "source": [
        "for i in range(10):\n",
        "    print (i)"
      ],
      "metadata": {
        "colab": {
          "base_uri": "https://localhost:8080/"
        },
        "id": "0YNRHKFEyN6U",
        "outputId": "b954cfdc-e8da-47a7-b786-478ada09a1c0"
      },
      "execution_count": 22,
      "outputs": [
        {
          "output_type": "stream",
          "name": "stdout",
          "text": [
            "0\n",
            "1\n",
            "2\n",
            "3\n",
            "4\n",
            "5\n",
            "6\n",
            "7\n",
            "8\n",
            "9\n"
          ]
        }
      ]
    }
  ]
}