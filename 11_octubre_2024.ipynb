{
  "nbformat": 4,
  "nbformat_minor": 0,
  "metadata": {
    "colab": {
      "provenance": [],
      "authorship_tag": "ABX9TyNj9tKgere2FgAFukWGQlkH",
      "include_colab_link": true
    },
    "kernelspec": {
      "name": "python3",
      "display_name": "Python 3"
    },
    "language_info": {
      "name": "python"
    }
  },
  "cells": [
    {
      "cell_type": "markdown",
      "metadata": {
        "id": "view-in-github",
        "colab_type": "text"
      },
      "source": [
        "<a href=\"https://colab.research.google.com/github/pedroyepiz/PYTHON-2023-1/blob/main/11_octubre_2024.ipynb\" target=\"_parent\"><img src=\"https://colab.research.google.com/assets/colab-badge.svg\" alt=\"Open In Colab\"/></a>"
      ]
    },
    {
      "cell_type": "code",
      "source": [
        "import random"
      ],
      "metadata": {
        "id": "AJ2XycIL9rn6"
      },
      "execution_count": 2,
      "outputs": []
    },
    {
      "cell_type": "code",
      "execution_count": 1,
      "metadata": {
        "id": "1r1E80jK8Oic"
      },
      "outputs": [],
      "source": [
        "nomh=[\"GOKU\",\"KRILIN\",\"VEGUETA\",\"PICOLO\",\"GOHAN\",\"MAYINBU\"]\n",
        "nomm=[\"MILK\",\"BULMA\",\"KARELY\",\"MIA\",\"ALANA\",\"LANA\"]\n",
        "apell=[\"COCCO\",\"ALVAREZ\",\"VILLELAS\",\"ARAUJO\",\"CEJA\",\"CARRILLO\",\"RODRIGUEZ\"]"
      ]
    },
    {
      "cell_type": "code",
      "source": [
        "def gendatos ():\n",
        "    lista=[]\n",
        "    lista.append(random.choice(apell))\n",
        "    lista.append(random.choice(apell))\n",
        "    sex=random.randint(1,2)\n",
        "    if (sex == 1):\n",
        "        lista.append(random.choice(nomh))\n",
        "    else:\n",
        "        lista.append(random.choice(nomm))\n",
        "    lista.append(random.randint(10,90))\n",
        "    if (sex == 1):\n",
        "        lista.append(\"HOMBRE\")\n",
        "    else:\n",
        "        lista.append(\"MUJER\")\n",
        "\n",
        "    return lista"
      ],
      "metadata": {
        "id": "6vKDmUhE9Ppn"
      },
      "execution_count": 12,
      "outputs": []
    },
    {
      "cell_type": "code",
      "source": [
        "def creadicc():\n",
        "    claves=[\"APPAT\",\"APMAT\",\"NOMBRE\",\"EDAD\",\"SEXO\"]\n",
        "    valores=gendatos()\n",
        "    dicc=dict(zip(claves,valores))\n",
        "    return dicc"
      ],
      "metadata": {
        "id": "w-rJi8WS_Ps0"
      },
      "execution_count": 25,
      "outputs": []
    },
    {
      "cell_type": "code",
      "source": [
        "creadicc()"
      ],
      "metadata": {
        "colab": {
          "base_uri": "https://localhost:8080/"
        },
        "id": "-pt8btGlBZAo",
        "outputId": "84db0d3e-d8cb-488a-e3a2-15199a48e84e"
      },
      "execution_count": 30,
      "outputs": [
        {
          "output_type": "execute_result",
          "data": {
            "text/plain": [
              "{'APPAT': 'ARAUJO',\n",
              " 'APMAT': 'RODRIGUEZ',\n",
              " 'NOMBRE': 'PICOLO',\n",
              " 'EDAD': 21,\n",
              " 'SEXO': 'HOMBRE'}"
            ]
          },
          "metadata": {},
          "execution_count": 30
        }
      ]
    },
    {
      "cell_type": "code",
      "source": [
        "listdicc=[]"
      ],
      "metadata": {
        "id": "58LR1cWuBC8e"
      },
      "execution_count": 44,
      "outputs": []
    },
    {
      "cell_type": "code",
      "source": [
        "for i in range(10):\n",
        "    dicc=creadicc()\n",
        "    listdicc.append(dicc)\n",
        "    print (dicc)"
      ],
      "metadata": {
        "colab": {
          "base_uri": "https://localhost:8080/"
        },
        "id": "XP6uhQya-03O",
        "outputId": "81a3ec11-6ae8-4bd7-bb54-c8bae008ae34"
      },
      "execution_count": 46,
      "outputs": [
        {
          "output_type": "stream",
          "name": "stdout",
          "text": [
            "{'APPAT': 'CEJA', 'APMAT': 'ARAUJO', 'NOMBRE': 'VEGUETA', 'EDAD': 59, 'SEXO': 'HOMBRE'}\n",
            "{'APPAT': 'VILLELAS', 'APMAT': 'ALVAREZ', 'NOMBRE': 'BULMA', 'EDAD': 54, 'SEXO': 'MUJER'}\n",
            "{'APPAT': 'RODRIGUEZ', 'APMAT': 'RODRIGUEZ', 'NOMBRE': 'VEGUETA', 'EDAD': 22, 'SEXO': 'HOMBRE'}\n",
            "{'APPAT': 'RODRIGUEZ', 'APMAT': 'ARAUJO', 'NOMBRE': 'VEGUETA', 'EDAD': 58, 'SEXO': 'HOMBRE'}\n",
            "{'APPAT': 'CEJA', 'APMAT': 'COCCO', 'NOMBRE': 'PICOLO', 'EDAD': 19, 'SEXO': 'HOMBRE'}\n",
            "{'APPAT': 'ARAUJO', 'APMAT': 'CEJA', 'NOMBRE': 'LANA', 'EDAD': 72, 'SEXO': 'MUJER'}\n",
            "{'APPAT': 'CEJA', 'APMAT': 'CEJA', 'NOMBRE': 'GOHAN', 'EDAD': 22, 'SEXO': 'HOMBRE'}\n",
            "{'APPAT': 'ALVAREZ', 'APMAT': 'CEJA', 'NOMBRE': 'KRILIN', 'EDAD': 76, 'SEXO': 'HOMBRE'}\n",
            "{'APPAT': 'CEJA', 'APMAT': 'ALVAREZ', 'NOMBRE': 'PICOLO', 'EDAD': 80, 'SEXO': 'HOMBRE'}\n",
            "{'APPAT': 'ARAUJO', 'APMAT': 'ARAUJO', 'NOMBRE': 'GOKU', 'EDAD': 58, 'SEXO': 'HOMBRE'}\n"
          ]
        }
      ]
    },
    {
      "cell_type": "code",
      "source": [
        "print (listdicc)"
      ],
      "metadata": {
        "colab": {
          "base_uri": "https://localhost:8080/"
        },
        "id": "hPbdkdVYBNcZ",
        "outputId": "887c4175-0bdf-4ab6-dfda-d6999cc99f41"
      },
      "execution_count": 48,
      "outputs": [
        {
          "output_type": "stream",
          "name": "stdout",
          "text": [
            "[{'APPAT': 'CEJA', 'APMAT': 'ARAUJO', 'NOMBRE': 'VEGUETA', 'EDAD': 59, 'SEXO': 'HOMBRE'}, {'APPAT': 'VILLELAS', 'APMAT': 'ALVAREZ', 'NOMBRE': 'BULMA', 'EDAD': 54, 'SEXO': 'MUJER'}, {'APPAT': 'RODRIGUEZ', 'APMAT': 'RODRIGUEZ', 'NOMBRE': 'VEGUETA', 'EDAD': 22, 'SEXO': 'HOMBRE'}, {'APPAT': 'RODRIGUEZ', 'APMAT': 'ARAUJO', 'NOMBRE': 'VEGUETA', 'EDAD': 58, 'SEXO': 'HOMBRE'}, {'APPAT': 'CEJA', 'APMAT': 'COCCO', 'NOMBRE': 'PICOLO', 'EDAD': 19, 'SEXO': 'HOMBRE'}, {'APPAT': 'ARAUJO', 'APMAT': 'CEJA', 'NOMBRE': 'LANA', 'EDAD': 72, 'SEXO': 'MUJER'}, {'APPAT': 'CEJA', 'APMAT': 'CEJA', 'NOMBRE': 'GOHAN', 'EDAD': 22, 'SEXO': 'HOMBRE'}, {'APPAT': 'ALVAREZ', 'APMAT': 'CEJA', 'NOMBRE': 'KRILIN', 'EDAD': 76, 'SEXO': 'HOMBRE'}, {'APPAT': 'CEJA', 'APMAT': 'ALVAREZ', 'NOMBRE': 'PICOLO', 'EDAD': 80, 'SEXO': 'HOMBRE'}, {'APPAT': 'ARAUJO', 'APMAT': 'ARAUJO', 'NOMBRE': 'GOKU', 'EDAD': 58, 'SEXO': 'HOMBRE'}]\n"
          ]
        }
      ]
    },
    {
      "cell_type": "code",
      "source": [],
      "metadata": {
        "id": "Ya6VXq2p_3gz"
      },
      "execution_count": 23,
      "outputs": []
    },
    {
      "cell_type": "code",
      "source": [
        "dicc"
      ],
      "metadata": {
        "colab": {
          "base_uri": "https://localhost:8080/"
        },
        "id": "9iprii0___sx",
        "outputId": "e2b6d298-daf7-49f5-c3d3-377f563e6b40"
      },
      "execution_count": 24,
      "outputs": [
        {
          "output_type": "execute_result",
          "data": {
            "text/plain": [
              "{'APPAT': 'CEJA',\n",
              " 'APMAT': 'COCCO',\n",
              " 'NOMBRE': 'MIA',\n",
              " 'EDAD': 26,\n",
              " 'SEXO': 'MUJER'}"
            ]
          },
          "metadata": {},
          "execution_count": 24
        }
      ]
    },
    {
      "cell_type": "code",
      "source": [
        "import pandas as pd"
      ],
      "metadata": {
        "id": "GT3CtBavCU3e"
      },
      "execution_count": 42,
      "outputs": []
    },
    {
      "cell_type": "code",
      "source": [
        "\n",
        "salida=pd.DataFrame(listdicc)\n",
        "\n",
        "salida = salida.sort_values(by='APPAT', ascending=True)\n",
        "print (salida)\n",
        ""
      ],
      "metadata": {
        "colab": {
          "base_uri": "https://localhost:8080/"
        },
        "id": "Mzrp_GFFCZop",
        "outputId": "6d4a18fd-3eb5-4299-8951-b434c90e7e69"
      },
      "execution_count": 57,
      "outputs": [
        {
          "output_type": "stream",
          "name": "stdout",
          "text": [
            "       APPAT      APMAT   NOMBRE  EDAD    SEXO\n",
            "7    ALVAREZ       CEJA   KRILIN    76  HOMBRE\n",
            "5     ARAUJO       CEJA     LANA    72   MUJER\n",
            "9     ARAUJO     ARAUJO     GOKU    58  HOMBRE\n",
            "0       CEJA     ARAUJO  VEGUETA    59  HOMBRE\n",
            "4       CEJA      COCCO   PICOLO    19  HOMBRE\n",
            "6       CEJA       CEJA    GOHAN    22  HOMBRE\n",
            "8       CEJA    ALVAREZ   PICOLO    80  HOMBRE\n",
            "2  RODRIGUEZ  RODRIGUEZ  VEGUETA    22  HOMBRE\n",
            "3  RODRIGUEZ     ARAUJO  VEGUETA    58  HOMBRE\n",
            "1   VILLELAS    ALVAREZ    BULMA    54   MUJER\n"
          ]
        }
      ]
    },
    {
      "cell_type": "code",
      "source": [],
      "metadata": {
        "id": "YOdza2anCyoq"
      },
      "execution_count": null,
      "outputs": []
    }
  ]
}