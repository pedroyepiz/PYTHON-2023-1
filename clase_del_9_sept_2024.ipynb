{
  "nbformat": 4,
  "nbformat_minor": 0,
  "metadata": {
    "colab": {
      "provenance": [],
      "authorship_tag": "ABX9TyPuPm9n273SBXD3LtNvg/U+",
      "include_colab_link": true
    },
    "kernelspec": {
      "name": "python3",
      "display_name": "Python 3"
    },
    "language_info": {
      "name": "python"
    }
  },
  "cells": [
    {
      "cell_type": "markdown",
      "metadata": {
        "id": "view-in-github",
        "colab_type": "text"
      },
      "source": [
        "<a href=\"https://colab.research.google.com/github/pedroyepiz/PYTHON-2023-1/blob/main/clase_del_9_sept_2024.ipynb\" target=\"_parent\"><img src=\"https://colab.research.google.com/assets/colab-badge.svg\" alt=\"Open In Colab\"/></a>"
      ]
    },
    {
      "cell_type": "code",
      "execution_count": 5,
      "metadata": {
        "id": "lORMEwsUsXYd"
      },
      "outputs": [],
      "source": [
        "maximo = max([3, 1, 2,34,5,6,78,12,31])\n",
        "minimo = min([3, 1, 2,34,5,6,78,12,31])\n",
        "suma = sum([3, 1, 2,34,5,6,78,12,31])"
      ]
    },
    {
      "cell_type": "code",
      "source": [
        "print (maximo)\n",
        "print (minimo)\n",
        "print (suma)"
      ],
      "metadata": {
        "colab": {
          "base_uri": "https://localhost:8080/"
        },
        "id": "3Yx0ikd7tHMT",
        "outputId": "f755e68d-d04b-4613-e87d-cc7f6c7f8364"
      },
      "execution_count": 6,
      "outputs": [
        {
          "output_type": "stream",
          "name": "stdout",
          "text": [
            "78\n",
            "1\n",
            "172\n"
          ]
        }
      ]
    },
    {
      "cell_type": "code",
      "source": [
        "def nombre():\n",
        "  print(\"HOLA MUNDO\")\n",
        "  funcion2()\n"
      ],
      "metadata": {
        "id": "2klrWVcKvnUs"
      },
      "execution_count": 2,
      "outputs": []
    },
    {
      "cell_type": "code",
      "source": [
        "\n",
        "def funcion2():\n",
        "  print (\"MUNDO CRUEL Y DESPIADADO\")\n",
        "\n"
      ],
      "metadata": {
        "id": "elmo3qPjvpWj"
      },
      "execution_count": 4,
      "outputs": []
    },
    {
      "cell_type": "code",
      "source": [
        "\n",
        "  funcion2()\n"
      ],
      "metadata": {
        "colab": {
          "base_uri": "https://localhost:8080/"
        },
        "id": "Ion12MFVvr-L",
        "outputId": "6f3af4b9-cca4-43be-8996-4ca6b25fc769"
      },
      "execution_count": 5,
      "outputs": [
        {
          "output_type": "stream",
          "name": "stdout",
          "text": [
            "MUNDO CRUEL Y DESPIADADO\n"
          ]
        }
      ]
    },
    {
      "cell_type": "code",
      "source": [
        "  nombre()"
      ],
      "metadata": {
        "colab": {
          "base_uri": "https://localhost:8080/"
        },
        "id": "6Y-6MHnOv08z",
        "outputId": "eb906803-8ba9-4787-e680-d83787f6f4a2"
      },
      "execution_count": 6,
      "outputs": [
        {
          "output_type": "stream",
          "name": "stdout",
          "text": [
            "HOLA MUNDO\n",
            "MUNDO CRUEL Y DESPIADADO\n"
          ]
        }
      ]
    },
    {
      "cell_type": "code",
      "source": [
        "num1 = int(input(\"DAME UN NUMERO\"))\n",
        "num2 = int(input(\"DAME UN NUMERO\"))"
      ],
      "metadata": {
        "colab": {
          "base_uri": "https://localhost:8080/"
        },
        "id": "xqHhC676xcNr",
        "outputId": "abcf0560-9a66-493f-bbb4-b8146568967f"
      },
      "execution_count": 10,
      "outputs": [
        {
          "name": "stdout",
          "output_type": "stream",
          "text": [
            "DAME UN NUMERO5\n",
            "DAME UN NUMERO8\n"
          ]
        }
      ]
    },
    {
      "cell_type": "code",
      "source": [
        "def suma_dos_numeros():\n",
        "\n",
        "    print (f\"LA SUMA DE LOS DOS NUMEROS = {num1 + num2}\")"
      ],
      "metadata": {
        "id": "fzGaRglzwddD"
      },
      "execution_count": 11,
      "outputs": []
    },
    {
      "cell_type": "code",
      "source": [
        "suma_dos_numeros()"
      ],
      "metadata": {
        "colab": {
          "base_uri": "https://localhost:8080/"
        },
        "id": "OMKsrevvw1n5",
        "outputId": "eb84331a-827f-4cd9-e56a-5e298799c91f"
      },
      "execution_count": 12,
      "outputs": [
        {
          "output_type": "stream",
          "name": "stdout",
          "text": [
            "LA SUMA DE LOS DOS NUMEROS = 13\n"
          ]
        }
      ]
    },
    {
      "cell_type": "code",
      "source": [
        "print (num1)"
      ],
      "metadata": {
        "colab": {
          "base_uri": "https://localhost:8080/"
        },
        "id": "R7kWhQYGxDl7",
        "outputId": "27ee1c5e-47c6-4771-b16f-3d07fa50b074"
      },
      "execution_count": 13,
      "outputs": [
        {
          "output_type": "stream",
          "name": "stdout",
          "text": [
            "5\n"
          ]
        }
      ]
    },
    {
      "cell_type": "code",
      "source": [
        "def multiplicacion(n1=0,n2=0):\n",
        "    print (f\"LA MULTI DE LOS DOS NUMEROS = {n1 * n2}\")\n",
        "    print (\"n1 \",n1)\n",
        "    print (\"n2 \",n2)"
      ],
      "metadata": {
        "id": "KjXDVN9Jx_BL"
      },
      "execution_count": 25,
      "outputs": []
    },
    {
      "cell_type": "code",
      "source": [
        "multiplicacion(n2=7)"
      ],
      "metadata": {
        "colab": {
          "base_uri": "https://localhost:8080/"
        },
        "id": "HOD4ML5Pya2q",
        "outputId": "57a508f5-0f6e-43af-d97d-e76db3fd7259"
      },
      "execution_count": 27,
      "outputs": [
        {
          "output_type": "stream",
          "name": "stdout",
          "text": [
            "LA MULTI DE LOS DOS NUMEROS = 0\n",
            "n1  0\n",
            "n2  7\n"
          ]
        }
      ]
    },
    {
      "cell_type": "code",
      "source": [
        "for i in range(2,10,2):\n",
        "    print (i)"
      ],
      "metadata": {
        "colab": {
          "base_uri": "https://localhost:8080/"
        },
        "id": "eZeQ6U1p0Zw6",
        "outputId": "3e9bf859-5bde-4e0c-e07b-ab39cb4507c4"
      },
      "execution_count": 31,
      "outputs": [
        {
          "output_type": "stream",
          "name": "stdout",
          "text": [
            "2\n",
            "4\n",
            "6\n",
            "8\n"
          ]
        }
      ]
    },
    {
      "cell_type": "code",
      "source": [
        "def numeros(rsup):\n",
        "    while True:\n",
        "        try:\n",
        "            num1 = int(input(f\"DAME UN NUMERO mayor de {rsup}: \"))\n",
        "            if (num1 > rsup):\n",
        "                return num1\n",
        "            else:\n",
        "                print (\"COMPRENSION LECTORA MUY BAJA... \")\n",
        "        except:\n",
        "            print (\"NUMERO.. NUMERO... NO SABES LEER...\")\n",
        ""
      ],
      "metadata": {
        "id": "2MEwLreI1El7"
      },
      "execution_count": 1,
      "outputs": []
    },
    {
      "cell_type": "code",
      "source": [
        "x=numeros(5)"
      ],
      "metadata": {
        "colab": {
          "base_uri": "https://localhost:8080/"
        },
        "id": "qIzN6NeY1jez",
        "outputId": "f997b3c7-864a-4168-a639-49e0e0b0f1cc"
      },
      "execution_count": null,
      "outputs": [
        {
          "output_type": "stream",
          "name": "stdout",
          "text": [
            "DAME UN NUMERO mayor de 5: 2\n",
            "COMPRENSION LECTORA MUY BAJA... \n",
            "NUMERO.. NUMERO... NO SABES LEER...\n",
            "NUMERO.. NUMERO... NO SABES LEER...\n",
            "NUMERO.. NUMERO... NO SABES LEER...\n"
          ]
        }
      ]
    },
    {
      "cell_type": "code",
      "source": [
        "print (x)"
      ],
      "metadata": {
        "colab": {
          "base_uri": "https://localhost:8080/"
        },
        "id": "xpuZ1ER517DC",
        "outputId": "263f2629-4f1d-4ed0-d6d6-9a94531e6179"
      },
      "execution_count": 13,
      "outputs": [
        {
          "output_type": "stream",
          "name": "stdout",
          "text": [
            "12\n"
          ]
        }
      ]
    },
    {
      "cell_type": "code",
      "source": [
        "print (numeros())"
      ],
      "metadata": {
        "colab": {
          "base_uri": "https://localhost:8080/",
          "height": 245
        },
        "id": "Zy_g8eBn2PAh",
        "outputId": "841b526a-bf76-420a-c4a8-342c7bd8fc9c"
      },
      "execution_count": 7,
      "outputs": [
        {
          "name": "stdout",
          "output_type": "stream",
          "text": [
            "DAME UN NUMEROg\n"
          ]
        },
        {
          "output_type": "error",
          "ename": "ValueError",
          "evalue": "invalid literal for int() with base 10: 'g'",
          "traceback": [
            "\u001b[0;31m---------------------------------------------------------------------------\u001b[0m",
            "\u001b[0;31mValueError\u001b[0m                                Traceback (most recent call last)",
            "\u001b[0;32m<ipython-input-7-f94ff370d332>\u001b[0m in \u001b[0;36m<cell line: 1>\u001b[0;34m()\u001b[0m\n\u001b[0;32m----> 1\u001b[0;31m \u001b[0mprint\u001b[0m \u001b[0;34m(\u001b[0m\u001b[0mnumeros\u001b[0m\u001b[0;34m(\u001b[0m\u001b[0;34m)\u001b[0m\u001b[0;34m)\u001b[0m\u001b[0;34m\u001b[0m\u001b[0;34m\u001b[0m\u001b[0m\n\u001b[0m",
            "\u001b[0;32m<ipython-input-1-514d582556dc>\u001b[0m in \u001b[0;36mnumeros\u001b[0;34m()\u001b[0m\n\u001b[1;32m      1\u001b[0m \u001b[0;32mdef\u001b[0m \u001b[0mnumeros\u001b[0m\u001b[0;34m(\u001b[0m\u001b[0;34m)\u001b[0m\u001b[0;34m:\u001b[0m\u001b[0;34m\u001b[0m\u001b[0;34m\u001b[0m\u001b[0m\n\u001b[0;32m----> 2\u001b[0;31m     \u001b[0mnum1\u001b[0m \u001b[0;34m=\u001b[0m \u001b[0mint\u001b[0m\u001b[0;34m(\u001b[0m\u001b[0minput\u001b[0m\u001b[0;34m(\u001b[0m\u001b[0;34m\"DAME UN NUMERO\"\u001b[0m\u001b[0;34m)\u001b[0m\u001b[0;34m)\u001b[0m\u001b[0;34m\u001b[0m\u001b[0;34m\u001b[0m\u001b[0m\n\u001b[0m\u001b[1;32m      3\u001b[0m     \u001b[0;32mreturn\u001b[0m \u001b[0mnum1\u001b[0m\u001b[0;34m\u001b[0m\u001b[0;34m\u001b[0m\u001b[0m\n",
            "\u001b[0;31mValueError\u001b[0m: invalid literal for int() with base 10: 'g'"
          ]
        }
      ]
    },
    {
      "cell_type": "code",
      "source": [
        "def varios():\n",
        "    x1=numeros(15)\n",
        "    x2=numeros(2)\n",
        "    x3=numeros(50)\n",
        "    return x1,x2,x3"
      ],
      "metadata": {
        "id": "PkD1_Bol4ehA"
      },
      "execution_count": 5,
      "outputs": []
    },
    {
      "cell_type": "code",
      "source": [
        "y=varios()"
      ],
      "metadata": {
        "colab": {
          "base_uri": "https://localhost:8080/"
        },
        "id": "MKBucqj15gMf",
        "outputId": "3e6cfd5f-c53b-443e-fbf5-123cb4c452d7"
      },
      "execution_count": 8,
      "outputs": [
        {
          "name": "stdout",
          "output_type": "stream",
          "text": [
            "DAME UN NUMERO mayor de 15: 45\n",
            "DAME UN NUMERO mayor de 2: 45\n",
            "DAME UN NUMERO mayor de 50: 85\n"
          ]
        }
      ]
    },
    {
      "cell_type": "code",
      "source": [
        "sumar = sum(y)\n",
        "sumar"
      ],
      "metadata": {
        "colab": {
          "base_uri": "https://localhost:8080/"
        },
        "id": "8aGOmCnE4wbM",
        "outputId": "0d370b48-0845-4ef8-fea5-75ba9be4cfd1"
      },
      "execution_count": 9,
      "outputs": [
        {
          "output_type": "execute_result",
          "data": {
            "text/plain": [
              "175"
            ]
          },
          "metadata": {},
          "execution_count": 9
        }
      ]
    }
  ]
}