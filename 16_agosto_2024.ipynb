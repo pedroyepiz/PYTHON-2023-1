{
  "nbformat": 4,
  "nbformat_minor": 0,
  "metadata": {
    "colab": {
      "provenance": [],
      "include_colab_link": true
    },
    "kernelspec": {
      "name": "python3",
      "display_name": "Python 3"
    },
    "language_info": {
      "name": "python"
    }
  },
  "cells": [
    {
      "cell_type": "markdown",
      "metadata": {
        "id": "view-in-github",
        "colab_type": "text"
      },
      "source": [
        "<a href=\"https://colab.research.google.com/github/pedroyepiz/PYTHON-2023-1/blob/main/16_agosto_2024.ipynb\" target=\"_parent\"><img src=\"https://colab.research.google.com/assets/colab-badge.svg\" alt=\"Open In Colab\"/></a>"
      ]
    },
    {
      "cell_type": "markdown",
      "source": [
        "# **PRIMER EJEMPLO DE PYTHON**\n"
      ],
      "metadata": {
        "id": "gZ42nCLPimlc"
      }
    },
    {
      "cell_type": "code",
      "execution_count": null,
      "metadata": {
        "colab": {
          "base_uri": "https://localhost:8080/"
        },
        "id": "3nAfS7oqiJiU",
        "outputId": "fcbc0043-fa80-4738-f114-672f012ea0e4"
      },
      "outputs": [
        {
          "output_type": "stream",
          "name": "stdout",
          "text": [
            "HOLA MUNDO CRUEL Y DESPIADADO\n"
          ]
        }
      ],
      "source": [
        "print (\"HOLA MUNDO CRUEL Y DESPIADADO\")"
      ]
    },
    {
      "cell_type": "code",
      "source": [
        "print ('HOLA MUNDO CRUEL ')"
      ],
      "metadata": {
        "colab": {
          "base_uri": "https://localhost:8080/"
        },
        "id": "qE7UX9SlkIrs",
        "outputId": "a08662b2-f54f-4485-e869-c82434ca699b"
      },
      "execution_count": null,
      "outputs": [
        {
          "output_type": "stream",
          "name": "stdout",
          "text": [
            "HOLA MUNDO CRUEL \n"
          ]
        }
      ]
    },
    {
      "cell_type": "markdown",
      "source": [
        "##EMILY ARAUJO"
      ],
      "metadata": {
        "id": "V-ERu3c9lia7"
      }
    },
    {
      "cell_type": "markdown",
      "source": [],
      "metadata": {
        "id": "_qkSQ9njmvv-"
      }
    }
  ]
}