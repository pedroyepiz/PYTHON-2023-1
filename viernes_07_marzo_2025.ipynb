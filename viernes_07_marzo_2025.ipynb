{
  "nbformat": 4,
  "nbformat_minor": 0,
  "metadata": {
    "colab": {
      "provenance": [],
      "authorship_tag": "ABX9TyMe/Io7sYNErH0AG9rp2FIb",
      "include_colab_link": true
    },
    "kernelspec": {
      "name": "python3",
      "display_name": "Python 3"
    },
    "language_info": {
      "name": "python"
    }
  },
  "cells": [
    {
      "cell_type": "markdown",
      "metadata": {
        "id": "view-in-github",
        "colab_type": "text"
      },
      "source": [
        "<a href=\"https://colab.research.google.com/github/pedroyepiz/PYTHON-2023-1/blob/main/viernes_07_marzo_2025.ipynb\" target=\"_parent\"><img src=\"https://colab.research.google.com/assets/colab-badge.svg\" alt=\"Open In Colab\"/></a>"
      ]
    },
    {
      "cell_type": "code",
      "execution_count": 1,
      "metadata": {
        "id": "ivpL4INzMiJa"
      },
      "outputs": [],
      "source": [
        "import random"
      ]
    },
    {
      "cell_type": "code",
      "source": [
        "from random import Random"
      ],
      "metadata": {
        "id": "uuwp2D0oNZwO"
      },
      "execution_count": null,
      "outputs": []
    },
    {
      "cell_type": "code",
      "source": [
        "lista =[1,2,3,4,5,6,7,8,9,10]\n",
        "print (lista)\n",
        "random.shuffle(lista)\n",
        "print (lista)"
      ],
      "metadata": {
        "colab": {
          "base_uri": "https://localhost:8080/"
        },
        "id": "pZ8jn3giW-xr",
        "outputId": "04788b35-22db-4862-8a23-bbec7c229ae8"
      },
      "execution_count": 3,
      "outputs": [
        {
          "output_type": "stream",
          "name": "stdout",
          "text": [
            "[1, 2, 3, 4, 5, 6, 7, 8, 9, 10]\n",
            "[3, 10, 6, 9, 1, 2, 8, 7, 4, 5]\n"
          ]
        }
      ]
    },
    {
      "cell_type": "markdown",
      "source": [
        "GENERAR 10 NUMEROS ALEATORIOS NO REPETTIDO EN EL RANDO DEL 10 AL 50"
      ],
      "metadata": {
        "id": "gmYIVvWRXcfW"
      }
    },
    {
      "cell_type": "code",
      "source": [
        "def genlista(n,ri,rf):\n",
        "    lista = [] # VARIABLE LOCAL\n",
        "    if(n <= rf-ri):\n",
        "        i = 0\n",
        "        while(i < n):\n",
        "            num = random.randint(ri,rf)\n",
        "            if num in lista:\n",
        "                #print (f\"{num} esta repetido \")\n",
        "                continue\n",
        "            else:\n",
        "                # print (f\"{num} \")\n",
        "                lista.append(num)\n",
        "                i += 1\n",
        "    else:\n",
        "        print(\"TAS TONTO NO SE PUEDE...\")\n",
        "\n",
        "    return lista"
      ],
      "metadata": {
        "id": "h0zh8yylXTvu"
      },
      "execution_count": 59,
      "outputs": []
    },
    {
      "cell_type": "code",
      "source": [
        "lista=genlista(10,10,50)\n",
        "print (\"LA LISTA SIN REPETIR = \",lista)"
      ],
      "metadata": {
        "colab": {
          "base_uri": "https://localhost:8080/"
        },
        "id": "ylqAmpoAbsGZ",
        "outputId": "cf6e9733-6f5d-458e-fb4f-254a28da5164"
      },
      "execution_count": 58,
      "outputs": [
        {
          "output_type": "stream",
          "name": "stdout",
          "text": [
            "LA LISTA SIN REPETIR =  [18, 16, 11, 15, 14, 19, 20, 13, 10, 17]\n"
          ]
        }
      ]
    },
    {
      "cell_type": "code",
      "source": [],
      "metadata": {
        "id": "fQMK1Lg9M_Ab"
      },
      "execution_count": null,
      "outputs": []
    }
  ]
}