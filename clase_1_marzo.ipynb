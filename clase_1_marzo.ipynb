{
  "nbformat": 4,
  "nbformat_minor": 0,
  "metadata": {
    "colab": {
      "provenance": [],
      "authorship_tag": "ABX9TyNW2BrV8XRe5NQvnSVvW8kR",
      "include_colab_link": true
    },
    "kernelspec": {
      "name": "python3",
      "display_name": "Python 3"
    },
    "language_info": {
      "name": "python"
    }
  },
  "cells": [
    {
      "cell_type": "markdown",
      "metadata": {
        "id": "view-in-github",
        "colab_type": "text"
      },
      "source": [
        "<a href=\"https://colab.research.google.com/github/pedroyepiz/PYTHON-2023-1/blob/main/clase_1_marzo.ipynb\" target=\"_parent\"><img src=\"https://colab.research.google.com/assets/colab-badge.svg\" alt=\"Open In Colab\"/></a>"
      ]
    },
    {
      "cell_type": "code",
      "execution_count": null,
      "metadata": {
        "id": "bNjsZ1PJi4W9"
      },
      "outputs": [],
      "source": [
        "help(range)"
      ]
    },
    {
      "cell_type": "code",
      "source": [
        "suma = 0\n",
        "\n",
        "for i in range(5 ):\n",
        ""
      ],
      "metadata": {
        "colab": {
          "base_uri": "https://localhost:8080/"
        },
        "id": "R3kH7OqZkZAo",
        "outputId": "24bbcd68-d324-408c-b3ce-fc48237f0f1e"
      },
      "execution_count": 30,
      "outputs": [
        {
          "output_type": "stream",
          "name": "stdout",
          "text": [
            "DAME UN NUMERO O 0 PARA SALIR : 5\n",
            "DAME UN NUMERO O 0 PARA SALIR : 5\n",
            "DAME UN NUMERO O 0 PARA SALIR : 5\n",
            "DAME UN NUMERO O 0 PARA SALIR : 5\n",
            "DAME UN NUMERO O 0 PARA SALIR : 5\n",
            "LA SUMA = 25\n"
          ]
        }
      ]
    },
    {
      "cell_type": "code",
      "source": [
        "for i in range(20):\n",
        "    print (i)"
      ],
      "metadata": {
        "id": "PE2QKP9JlN0a"
      },
      "execution_count": null,
      "outputs": []
    },
    {
      "cell_type": "code",
      "source": [
        "i = 1\n",
        "suma = 0\n",
        "while i <= 5 :\n",
        "    try:\n",
        "        x=int(input(f\"{i}.- DAME UN NUMERO O 0 PARA SALIR : \"))\n",
        "    except:\n",
        "        continue\n",
        "    if x == 0:\n",
        "            break\n",
        "    suma = suma + x\n",
        "    i+=1\n",
        "else:\n",
        "    print (f\"LA SUMA = {suma}\")\n",
        ""
      ],
      "metadata": {
        "colab": {
          "base_uri": "https://localhost:8080/"
        },
        "id": "mjaoz_70pWCv",
        "outputId": "eb868ad7-ed18-4780-f982-c4fe34112eeb"
      },
      "execution_count": 4,
      "outputs": [
        {
          "output_type": "stream",
          "name": "stdout",
          "text": [
            "1.- DAME UN NUMERO O 0 PARA SALIR : 5\n",
            "2.- DAME UN NUMERO O 0 PARA SALIR : 6\n",
            "3.- DAME UN NUMERO O 0 PARA SALIR : 7\n",
            "4.- DAME UN NUMERO O 0 PARA SALIR : 1\n",
            "5.- DAME UN NUMERO O 0 PARA SALIR : 5\n",
            "LA SUMA = 24\n"
          ]
        }
      ]
    },
    {
      "cell_type": "code",
      "source": [
        "import random"
      ],
      "metadata": {
        "id": "XKeIIORHrgo_"
      },
      "execution_count": 5,
      "outputs": []
    },
    {
      "cell_type": "code",
      "source": [
        "i = 0\n",
        "par = 0\n",
        "spar = 0\n",
        "simpar = 0\n",
        "\n",
        "while i < 3:\n",
        "    x=random.randrange(0,200)\n",
        "    if x % 2 == 0:\n",
        "        print (f\" {x} -->  ES PAR\")\n",
        "        par+=1\n",
        "        spar += x\n",
        "    else:\n",
        "        print (f\" {x} -->  ES IMPAR\")\n",
        "        simpar += x\n",
        "    i+=1\n",
        "\n",
        "print (f\"LA CANTIDAD DE PARES = {par}\")\n",
        "print (f\"LA CANTIDAD DE IMPARES = {i-par}\")\n",
        "print (f\" LA SUMA DE LOS PARES = {spar}\")\n",
        "print (f\" LA SUMA DE LOS IMPARES = {simpar}\")\n"
      ],
      "metadata": {
        "colab": {
          "base_uri": "https://localhost:8080/"
        },
        "id": "VhRjtHjNrcFt",
        "outputId": "7e2e69a7-f76d-4522-e6ad-9812e4e65181"
      },
      "execution_count": 24,
      "outputs": [
        {
          "output_type": "stream",
          "name": "stdout",
          "text": [
            " 43 -->  ES IMPAR\n",
            " 195 -->  ES IMPAR\n",
            " 192 -->  ES PAR\n",
            "LA CANTIDAD DE PARES = 1\n",
            "LA CANTIDAD DE IMPARES = 2\n",
            " LA SUMA DE LOS PARES = 192\n",
            " LA SUMA DE LOS IMPARES = 238\n"
          ]
        }
      ]
    },
    {
      "cell_type": "code",
      "source": [
        "suma = 0\n",
        "band = True\n",
        "while band:\n",
        "    x=random.randrange(100,200)\n",
        "    print (x)\n",
        "    suma += x\n",
        "    if x == 180:\n",
        "        band = False\n",
        "    if x == 111:\n",
        "        break\n",
        "else:\n",
        "    print (f\"TERMINO .. LA SUMA = {suma}\")"
      ],
      "metadata": {
        "colab": {
          "base_uri": "https://localhost:8080/"
        },
        "id": "yvjHme8EvJRF",
        "outputId": "54e44fc1-2403-457d-f873-ef06d2595bf7"
      },
      "execution_count": 30,
      "outputs": [
        {
          "output_type": "stream",
          "name": "stdout",
          "text": [
            "162\n",
            "177\n",
            "192\n",
            "174\n",
            "101\n",
            "136\n",
            "131\n",
            "130\n",
            "151\n",
            "159\n",
            "192\n",
            "108\n",
            "168\n",
            "150\n",
            "101\n",
            "173\n",
            "105\n",
            "189\n",
            "139\n",
            "188\n",
            "137\n",
            "170\n",
            "154\n",
            "172\n",
            "197\n",
            "102\n",
            "109\n",
            "184\n",
            "171\n",
            "130\n",
            "179\n",
            "174\n",
            "179\n",
            "190\n",
            "118\n",
            "152\n",
            "117\n",
            "196\n",
            "110\n",
            "137\n",
            "178\n",
            "120\n",
            "113\n",
            "145\n",
            "149\n",
            "114\n",
            "110\n",
            "135\n",
            "167\n",
            "131\n",
            "167\n",
            "104\n",
            "166\n",
            "130\n",
            "178\n",
            "165\n",
            "131\n",
            "136\n",
            "176\n",
            "183\n",
            "163\n",
            "137\n",
            "130\n",
            "111\n"
          ]
        }
      ]
    }
  ]
}